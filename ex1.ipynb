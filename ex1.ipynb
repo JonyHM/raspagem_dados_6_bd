{
 "cells": [
  {
   "cell_type": "code",
   "execution_count": 1,
   "id": "92c72b14-e144-45c0-acee-bcf0c4b85af5",
   "metadata": {},
   "outputs": [],
   "source": [
    "import pandas as pd\n",
    "import statistics as sts\n",
    "import seaborn as srn\n",
    "low_memory = False\n",
    "import matplotlib as plt\n",
    "%matplotlib inline\n",
    "pd.options.display.max_columns = 80\n",
    "pd.options.display.max_rows = 90"
   ]
  },
  {
   "cell_type": "code",
   "execution_count": 2,
   "id": "bd10b8dc-fa08-4386-99e0-0ead76f78172",
   "metadata": {},
   "outputs": [],
   "source": [
    "filename = r'data\\perfil_eleitorado_2020.csv'\n"
   ]
  },
  {
   "cell_type": "code",
   "execution_count": 3,
   "id": "6e0b478f-6e45-439b-893e-31abdd32117e",
   "metadata": {},
   "outputs": [],
   "source": [
    "dataset = pd.read_csv(filename, sep = ';', encoding = \"ISO-8859-1\")"
   ]
  },
  {
   "cell_type": "code",
   "execution_count": 4,
   "id": "9e270f52-cf4a-4fbb-be9c-c7b7cae36e63",
   "metadata": {},
   "outputs": [
    {
     "data": {
      "text/plain": [
       "(1048575, 21)"
      ]
     },
     "execution_count": 4,
     "metadata": {},
     "output_type": "execute_result"
    }
   ],
   "source": [
    "dataset.shape"
   ]
  },
  {
   "cell_type": "code",
   "execution_count": 5,
   "id": "61bfdc16-f137-4c16-afc3-f2c501a47798",
   "metadata": {},
   "outputs": [
    {
     "name": "stdout",
     "output_type": "stream",
     "text": [
      "<class 'pandas.core.frame.DataFrame'>\n",
      "RangeIndex: 1048575 entries, 0 to 1048574\n",
      "Data columns (total 21 columns):\n",
      " #   Column                      Non-Null Count    Dtype \n",
      "---  ------                      --------------    ----- \n",
      " 0   DT_GERACAO                  1048575 non-null  object\n",
      " 1   HH_GERACAO                  1048575 non-null  object\n",
      " 2   ANO_ELEICAO                 1048575 non-null  int64 \n",
      " 3   SG_UF                       1048575 non-null  object\n",
      " 4   CD_MUNICIPIO                1048575 non-null  int64 \n",
      " 5   NM_MUNICIPIO                1048575 non-null  object\n",
      " 6   CD_MUN_SIT_BIOMETRIA        1048575 non-null  int64 \n",
      " 7   DS_MUN_SIT_BIOMETRIA        1048575 non-null  object\n",
      " 8   NR_ZONA                     1048575 non-null  int64 \n",
      " 9   CD_GENERO                   1048575 non-null  int64 \n",
      " 10  DS_GENERO                   1048575 non-null  object\n",
      " 11  CD_ESTADO_CIVIL             1048575 non-null  int64 \n",
      " 12  DS_ESTADO_CIVIL             1048575 non-null  object\n",
      " 13  CD_FAIXA_ETARIA             1048575 non-null  int64 \n",
      " 14  DS_FAIXA_ETARIA             1048575 non-null  object\n",
      " 15  CD_GRAU_ESCOLARIDADE        1048575 non-null  int64 \n",
      " 16  DS_GRAU_ESCOLARIDADE        1048575 non-null  object\n",
      " 17  QT_ELEITORES_PERFIL         1048575 non-null  int64 \n",
      " 18  QT_ELEITORES_BIOMETRIA      1048575 non-null  int64 \n",
      " 19  QT_ELEITORES_DEFICIENCIA    1048575 non-null  int64 \n",
      " 20  QT_ELEITORES_INC_NM_SOCIAL  1048575 non-null  int64 \n",
      "dtypes: int64(12), object(9)\n",
      "memory usage: 168.0+ MB\n"
     ]
    }
   ],
   "source": [
    "dataset.info()"
   ]
  },
  {
   "cell_type": "code",
   "execution_count": 7,
   "id": "29511089-7b17-4558-8b7d-90ec953109bd",
   "metadata": {},
   "outputs": [
    {
     "data": {
      "text/html": [
       "<div>\n",
       "<style scoped>\n",
       "    .dataframe tbody tr th:only-of-type {\n",
       "        vertical-align: middle;\n",
       "    }\n",
       "\n",
       "    .dataframe tbody tr th {\n",
       "        vertical-align: top;\n",
       "    }\n",
       "\n",
       "    .dataframe thead th {\n",
       "        text-align: right;\n",
       "    }\n",
       "</style>\n",
       "<table border=\"1\" class=\"dataframe\">\n",
       "  <thead>\n",
       "    <tr style=\"text-align: right;\">\n",
       "      <th></th>\n",
       "      <th>DT_GERACAO</th>\n",
       "      <th>HH_GERACAO</th>\n",
       "      <th>ANO_ELEICAO</th>\n",
       "      <th>SG_UF</th>\n",
       "      <th>CD_MUNICIPIO</th>\n",
       "      <th>NM_MUNICIPIO</th>\n",
       "      <th>CD_MUN_SIT_BIOMETRIA</th>\n",
       "      <th>DS_MUN_SIT_BIOMETRIA</th>\n",
       "      <th>NR_ZONA</th>\n",
       "      <th>CD_GENERO</th>\n",
       "      <th>DS_GENERO</th>\n",
       "      <th>CD_ESTADO_CIVIL</th>\n",
       "      <th>DS_ESTADO_CIVIL</th>\n",
       "      <th>CD_FAIXA_ETARIA</th>\n",
       "      <th>DS_FAIXA_ETARIA</th>\n",
       "      <th>CD_GRAU_ESCOLARIDADE</th>\n",
       "      <th>DS_GRAU_ESCOLARIDADE</th>\n",
       "      <th>QT_ELEITORES_PERFIL</th>\n",
       "      <th>QT_ELEITORES_BIOMETRIA</th>\n",
       "      <th>QT_ELEITORES_DEFICIENCIA</th>\n",
       "      <th>QT_ELEITORES_INC_NM_SOCIAL</th>\n",
       "    </tr>\n",
       "  </thead>\n",
       "  <tbody>\n",
       "    <tr>\n",
       "      <th>532822</th>\n",
       "      <td>10/09/2020</td>\n",
       "      <td>23:04:11</td>\n",
       "      <td>2020</td>\n",
       "      <td>MS</td>\n",
       "      <td>90514</td>\n",
       "      <td>CAMPO GRANDE</td>\n",
       "      <td>0</td>\n",
       "      <td>Sem biometria</td>\n",
       "      <td>54</td>\n",
       "      <td>2</td>\n",
       "      <td>MASCULINO</td>\n",
       "      <td>1</td>\n",
       "      <td>SOLTEIRO</td>\n",
       "      <td>2124</td>\n",
       "      <td>21 a 24 anos</td>\n",
       "      <td>6</td>\n",
       "      <td>ENSINO MÉDIO COMPLETO</td>\n",
       "      <td>870</td>\n",
       "      <td>862</td>\n",
       "      <td>7</td>\n",
       "      <td>0</td>\n",
       "    </tr>\n",
       "    <tr>\n",
       "      <th>704415</th>\n",
       "      <td>10/09/2020</td>\n",
       "      <td>23:04:11</td>\n",
       "      <td>2020</td>\n",
       "      <td>RS</td>\n",
       "      <td>88617</td>\n",
       "      <td>SANTO CRISTO</td>\n",
       "      <td>0</td>\n",
       "      <td>Sem biometria</td>\n",
       "      <td>102</td>\n",
       "      <td>4</td>\n",
       "      <td>FEMININO</td>\n",
       "      <td>3</td>\n",
       "      <td>CASADO</td>\n",
       "      <td>4044</td>\n",
       "      <td>40 a 44 anos</td>\n",
       "      <td>5</td>\n",
       "      <td>ENSINO MÉDIO INCOMPLETO</td>\n",
       "      <td>11</td>\n",
       "      <td>11</td>\n",
       "      <td>0</td>\n",
       "      <td>0</td>\n",
       "    </tr>\n",
       "    <tr>\n",
       "      <th>362993</th>\n",
       "      <td>10/09/2020</td>\n",
       "      <td>23:04:11</td>\n",
       "      <td>2020</td>\n",
       "      <td>MG</td>\n",
       "      <td>44610</td>\n",
       "      <td>DORES DE GUANHÃES</td>\n",
       "      <td>0</td>\n",
       "      <td>Sem biometria</td>\n",
       "      <td>121</td>\n",
       "      <td>4</td>\n",
       "      <td>FEMININO</td>\n",
       "      <td>1</td>\n",
       "      <td>SOLTEIRO</td>\n",
       "      <td>7074</td>\n",
       "      <td>70 a 74 anos</td>\n",
       "      <td>1</td>\n",
       "      <td>ANALFABETO</td>\n",
       "      <td>8</td>\n",
       "      <td>1</td>\n",
       "      <td>0</td>\n",
       "      <td>0</td>\n",
       "    </tr>\n",
       "    <tr>\n",
       "      <th>464973</th>\n",
       "      <td>10/09/2020</td>\n",
       "      <td>23:04:11</td>\n",
       "      <td>2020</td>\n",
       "      <td>MG</td>\n",
       "      <td>46590</td>\n",
       "      <td>ITAMONTE</td>\n",
       "      <td>0</td>\n",
       "      <td>Sem biometria</td>\n",
       "      <td>306</td>\n",
       "      <td>4</td>\n",
       "      <td>FEMININO</td>\n",
       "      <td>9</td>\n",
       "      <td>DIVORCIADO</td>\n",
       "      <td>8084</td>\n",
       "      <td>80 a 84 anos</td>\n",
       "      <td>8</td>\n",
       "      <td>SUPERIOR COMPLETO</td>\n",
       "      <td>1</td>\n",
       "      <td>1</td>\n",
       "      <td>0</td>\n",
       "      <td>0</td>\n",
       "    </tr>\n",
       "    <tr>\n",
       "      <th>287887</th>\n",
       "      <td>10/09/2020</td>\n",
       "      <td>23:04:11</td>\n",
       "      <td>2020</td>\n",
       "      <td>MG</td>\n",
       "      <td>46051</td>\n",
       "      <td>IGUATAMA</td>\n",
       "      <td>0</td>\n",
       "      <td>Sem biometria</td>\n",
       "      <td>18</td>\n",
       "      <td>4</td>\n",
       "      <td>FEMININO</td>\n",
       "      <td>9</td>\n",
       "      <td>DIVORCIADO</td>\n",
       "      <td>4549</td>\n",
       "      <td>45 a 49 anos</td>\n",
       "      <td>8</td>\n",
       "      <td>SUPERIOR COMPLETO</td>\n",
       "      <td>3</td>\n",
       "      <td>3</td>\n",
       "      <td>0</td>\n",
       "      <td>0</td>\n",
       "    </tr>\n",
       "    <tr>\n",
       "      <th>765034</th>\n",
       "      <td>10/09/2020</td>\n",
       "      <td>23:04:11</td>\n",
       "      <td>2020</td>\n",
       "      <td>SP</td>\n",
       "      <td>71072</td>\n",
       "      <td>SÃO PAULO</td>\n",
       "      <td>0</td>\n",
       "      <td>Sem biometria</td>\n",
       "      <td>5</td>\n",
       "      <td>2</td>\n",
       "      <td>MASCULINO</td>\n",
       "      <td>7</td>\n",
       "      <td>SEPARADO JUDICIALMENTE</td>\n",
       "      <td>5054</td>\n",
       "      <td>50 a 54 anos</td>\n",
       "      <td>6</td>\n",
       "      <td>ENSINO MÉDIO COMPLETO</td>\n",
       "      <td>6</td>\n",
       "      <td>3</td>\n",
       "      <td>0</td>\n",
       "      <td>0</td>\n",
       "    </tr>\n",
       "    <tr>\n",
       "      <th>701040</th>\n",
       "      <td>10/09/2020</td>\n",
       "      <td>23:04:11</td>\n",
       "      <td>2020</td>\n",
       "      <td>MS</td>\n",
       "      <td>98051</td>\n",
       "      <td>DOURADINA</td>\n",
       "      <td>0</td>\n",
       "      <td>Sem biometria</td>\n",
       "      <td>18</td>\n",
       "      <td>4</td>\n",
       "      <td>FEMININO</td>\n",
       "      <td>9</td>\n",
       "      <td>DIVORCIADO</td>\n",
       "      <td>3539</td>\n",
       "      <td>35 a 39 anos</td>\n",
       "      <td>7</td>\n",
       "      <td>SUPERIOR INCOMPLETO</td>\n",
       "      <td>1</td>\n",
       "      <td>1</td>\n",
       "      <td>0</td>\n",
       "      <td>0</td>\n",
       "    </tr>\n",
       "    <tr>\n",
       "      <th>1022635</th>\n",
       "      <td>10/09/2020</td>\n",
       "      <td>23:04:11</td>\n",
       "      <td>2020</td>\n",
       "      <td>MG</td>\n",
       "      <td>48593</td>\n",
       "      <td>MONTE BELO</td>\n",
       "      <td>0</td>\n",
       "      <td>Sem biometria</td>\n",
       "      <td>195</td>\n",
       "      <td>2</td>\n",
       "      <td>MASCULINO</td>\n",
       "      <td>3</td>\n",
       "      <td>CASADO</td>\n",
       "      <td>6064</td>\n",
       "      <td>60 a 64 anos</td>\n",
       "      <td>4</td>\n",
       "      <td>ENSINO FUNDAMENTAL COMPLETO</td>\n",
       "      <td>19</td>\n",
       "      <td>11</td>\n",
       "      <td>0</td>\n",
       "      <td>0</td>\n",
       "    </tr>\n",
       "    <tr>\n",
       "      <th>622563</th>\n",
       "      <td>10/09/2020</td>\n",
       "      <td>23:04:11</td>\n",
       "      <td>2020</td>\n",
       "      <td>CE</td>\n",
       "      <td>15997</td>\n",
       "      <td>PARAIPABA</td>\n",
       "      <td>0</td>\n",
       "      <td>Sem biometria</td>\n",
       "      <td>109</td>\n",
       "      <td>2</td>\n",
       "      <td>MASCULINO</td>\n",
       "      <td>3</td>\n",
       "      <td>CASADO</td>\n",
       "      <td>4549</td>\n",
       "      <td>45 a 49 anos</td>\n",
       "      <td>1</td>\n",
       "      <td>ANALFABETO</td>\n",
       "      <td>7</td>\n",
       "      <td>7</td>\n",
       "      <td>0</td>\n",
       "      <td>0</td>\n",
       "    </tr>\n",
       "    <tr>\n",
       "      <th>671629</th>\n",
       "      <td>10/09/2020</td>\n",
       "      <td>23:04:11</td>\n",
       "      <td>2020</td>\n",
       "      <td>PI</td>\n",
       "      <td>10731</td>\n",
       "      <td>ESPERANTINA</td>\n",
       "      <td>0</td>\n",
       "      <td>Sem biometria</td>\n",
       "      <td>41</td>\n",
       "      <td>2</td>\n",
       "      <td>MASCULINO</td>\n",
       "      <td>1</td>\n",
       "      <td>SOLTEIRO</td>\n",
       "      <td>4549</td>\n",
       "      <td>45 a 49 anos</td>\n",
       "      <td>5</td>\n",
       "      <td>ENSINO MÉDIO INCOMPLETO</td>\n",
       "      <td>15</td>\n",
       "      <td>14</td>\n",
       "      <td>0</td>\n",
       "      <td>0</td>\n",
       "    </tr>\n",
       "  </tbody>\n",
       "</table>\n",
       "</div>"
      ],
      "text/plain": [
       "         DT_GERACAO HH_GERACAO  ANO_ELEICAO SG_UF  CD_MUNICIPIO  \\\n",
       "532822   10/09/2020   23:04:11         2020    MS         90514   \n",
       "704415   10/09/2020   23:04:11         2020    RS         88617   \n",
       "362993   10/09/2020   23:04:11         2020    MG         44610   \n",
       "464973   10/09/2020   23:04:11         2020    MG         46590   \n",
       "287887   10/09/2020   23:04:11         2020    MG         46051   \n",
       "765034   10/09/2020   23:04:11         2020    SP         71072   \n",
       "701040   10/09/2020   23:04:11         2020    MS         98051   \n",
       "1022635  10/09/2020   23:04:11         2020    MG         48593   \n",
       "622563   10/09/2020   23:04:11         2020    CE         15997   \n",
       "671629   10/09/2020   23:04:11         2020    PI         10731   \n",
       "\n",
       "              NM_MUNICIPIO  CD_MUN_SIT_BIOMETRIA DS_MUN_SIT_BIOMETRIA  \\\n",
       "532822        CAMPO GRANDE                     0        Sem biometria   \n",
       "704415        SANTO CRISTO                     0        Sem biometria   \n",
       "362993   DORES DE GUANHÃES                     0        Sem biometria   \n",
       "464973            ITAMONTE                     0        Sem biometria   \n",
       "287887            IGUATAMA                     0        Sem biometria   \n",
       "765034           SÃO PAULO                     0        Sem biometria   \n",
       "701040           DOURADINA                     0        Sem biometria   \n",
       "1022635         MONTE BELO                     0        Sem biometria   \n",
       "622563           PARAIPABA                     0        Sem biometria   \n",
       "671629         ESPERANTINA                     0        Sem biometria   \n",
       "\n",
       "         NR_ZONA  CD_GENERO  DS_GENERO  CD_ESTADO_CIVIL  \\\n",
       "532822        54          2  MASCULINO                1   \n",
       "704415       102          4   FEMININO                3   \n",
       "362993       121          4   FEMININO                1   \n",
       "464973       306          4   FEMININO                9   \n",
       "287887        18          4   FEMININO                9   \n",
       "765034         5          2  MASCULINO                7   \n",
       "701040        18          4   FEMININO                9   \n",
       "1022635      195          2  MASCULINO                3   \n",
       "622563       109          2  MASCULINO                3   \n",
       "671629        41          2  MASCULINO                1   \n",
       "\n",
       "                DS_ESTADO_CIVIL  CD_FAIXA_ETARIA  \\\n",
       "532822                 SOLTEIRO             2124   \n",
       "704415                   CASADO             4044   \n",
       "362993                 SOLTEIRO             7074   \n",
       "464973               DIVORCIADO             8084   \n",
       "287887               DIVORCIADO             4549   \n",
       "765034   SEPARADO JUDICIALMENTE             5054   \n",
       "701040               DIVORCIADO             3539   \n",
       "1022635                  CASADO             6064   \n",
       "622563                   CASADO             4549   \n",
       "671629                 SOLTEIRO             4549   \n",
       "\n",
       "                        DS_FAIXA_ETARIA  CD_GRAU_ESCOLARIDADE  \\\n",
       "532822   21 a 24 anos                                       6   \n",
       "704415   40 a 44 anos                                       5   \n",
       "362993   70 a 74 anos                                       1   \n",
       "464973   80 a 84 anos                                       8   \n",
       "287887   45 a 49 anos                                       8   \n",
       "765034   50 a 54 anos                                       6   \n",
       "701040   35 a 39 anos                                       7   \n",
       "1022635  60 a 64 anos                                       4   \n",
       "622563   45 a 49 anos                                       1   \n",
       "671629   45 a 49 anos                                       5   \n",
       "\n",
       "                DS_GRAU_ESCOLARIDADE  QT_ELEITORES_PERFIL  \\\n",
       "532822         ENSINO MÉDIO COMPLETO                  870   \n",
       "704415       ENSINO MÉDIO INCOMPLETO                   11   \n",
       "362993                    ANALFABETO                    8   \n",
       "464973             SUPERIOR COMPLETO                    1   \n",
       "287887             SUPERIOR COMPLETO                    3   \n",
       "765034         ENSINO MÉDIO COMPLETO                    6   \n",
       "701040           SUPERIOR INCOMPLETO                    1   \n",
       "1022635  ENSINO FUNDAMENTAL COMPLETO                   19   \n",
       "622563                    ANALFABETO                    7   \n",
       "671629       ENSINO MÉDIO INCOMPLETO                   15   \n",
       "\n",
       "         QT_ELEITORES_BIOMETRIA  QT_ELEITORES_DEFICIENCIA  \\\n",
       "532822                      862                         7   \n",
       "704415                       11                         0   \n",
       "362993                        1                         0   \n",
       "464973                        1                         0   \n",
       "287887                        3                         0   \n",
       "765034                        3                         0   \n",
       "701040                        1                         0   \n",
       "1022635                      11                         0   \n",
       "622563                        7                         0   \n",
       "671629                       14                         0   \n",
       "\n",
       "         QT_ELEITORES_INC_NM_SOCIAL  \n",
       "532822                            0  \n",
       "704415                            0  \n",
       "362993                            0  \n",
       "464973                            0  \n",
       "287887                            0  \n",
       "765034                            0  \n",
       "701040                            0  \n",
       "1022635                           0  \n",
       "622563                            0  \n",
       "671629                            0  "
      ]
     },
     "execution_count": 7,
     "metadata": {},
     "output_type": "execute_result"
    }
   ],
   "source": [
    "dataset.sample(10)"
   ]
  },
  {
   "cell_type": "code",
   "execution_count": 49,
   "id": "b14f1476-4746-4a39-9f7c-0d38722a9d47",
   "metadata": {},
   "outputs": [],
   "source": [
    "# #01 Jornalista quer saber a classificação do eleitorado a partir do estado civil, escolaridade e faixa etária,\n",
    "# além da quantidade de eleitores que utilizam nome social \t\n"
   ]
  },
  {
   "cell_type": "code",
   "execution_count": 8,
   "id": "a6abdd88-d024-448f-98ae-65231674afb0",
   "metadata": {},
   "outputs": [],
   "source": [
    "x = dataset.groupby(['DS_ESTADO_CIVIL', 'DS_FAIXA_ETARIA', 'DS_GRAU_ESCOLARIDADE']).size()"
   ]
  },
  {
   "cell_type": "code",
   "execution_count": 9,
   "id": "45928457-2be0-4ae7-aa72-a366a4aca3b7",
   "metadata": {},
   "outputs": [
    {
     "data": {
      "text/plain": [
       "DS_ESTADO_CIVIL  DS_FAIXA_ETARIA                 DS_GRAU_ESCOLARIDADE         \n",
       "CASADO           100 anos ou mais                ANALFABETO                       757\n",
       "                                                 ENSINO FUNDAMENTAL COMPLETO      259\n",
       "                                                 ENSINO FUNDAMENTAL INCOMPLETO    573\n",
       "                                                 ENSINO MÉDIO COMPLETO            170\n",
       "                                                 ENSINO MÉDIO INCOMPLETO           77\n",
       "                                                                                 ... \n",
       "VIÚVO            Inválido                        ENSINO FUNDAMENTAL COMPLETO        2\n",
       "                                                 ENSINO FUNDAMENTAL INCOMPLETO      9\n",
       "                                                 ENSINO MÉDIO COMPLETO              1\n",
       "                                                 ENSINO MÉDIO INCOMPLETO            1\n",
       "                                                 LÊ E ESCREVE                      14\n",
       "Length: 1006, dtype: int64"
      ]
     },
     "execution_count": 9,
     "metadata": {},
     "output_type": "execute_result"
    }
   ],
   "source": [
    "x"
   ]
  },
  {
   "cell_type": "code",
   "execution_count": 10,
   "id": "66027bfd-7c1a-4d41-a6ef-eb73b81612e7",
   "metadata": {},
   "outputs": [],
   "source": [
    "estado_civil = dataset.groupby(['DS_ESTADO_CIVIL']).size()"
   ]
  },
  {
   "cell_type": "code",
   "execution_count": 11,
   "id": "7901c7d9-a514-4fe0-b9ef-401a7bb068d0",
   "metadata": {},
   "outputs": [
    {
     "data": {
      "text/plain": [
       "DS_ESTADO_CIVIL\n",
       "CASADO                    306177\n",
       "DIVORCIADO                157154\n",
       "NÃO INFORMADO               7842\n",
       "SEPARADO JUDICIALMENTE     95249\n",
       "SOLTEIRO                  341632\n",
       "VIÚVO                     140521\n",
       "dtype: int64"
      ]
     },
     "execution_count": 11,
     "metadata": {},
     "output_type": "execute_result"
    }
   ],
   "source": [
    "estado_civil"
   ]
  },
  {
   "cell_type": "code",
   "execution_count": 12,
   "id": "4bfdf425-1120-4d24-80c5-b0d2ece0961f",
   "metadata": {},
   "outputs": [
    {
     "data": {
      "text/plain": [
       "<AxesSubplot:xlabel='DS_ESTADO_CIVIL'>"
      ]
     },
     "execution_count": 12,
     "metadata": {},
     "output_type": "execute_result"
    },
    {
     "data": {
      "image/png": "[encoded data removed]",
      "text/plain": [
       "<Figure size 432x288 with 1 Axes>"
      ]
     },
     "metadata": {
      "needs_background": "light"
     },
     "output_type": "display_data"
    }
   ],
   "source": [
    "estado_civil.plot.bar(color = 'gray')"
   ]
  },
  {
   "cell_type": "code",
   "execution_count": 13,
   "id": "7c3cbe73-7fb8-43f6-a86c-2be37a4273d2",
   "metadata": {},
   "outputs": [],
   "source": [
    "faixa_etaria = dataset.groupby(['DS_FAIXA_ETARIA']).size()"
   ]
  },
  {
   "cell_type": "code",
   "execution_count": 14,
   "id": "dd9f94e2-9a2a-4e9b-9a20-39718486a029",
   "metadata": {},
   "outputs": [
    {
     "data": {
      "text/plain": [
       "DS_FAIXA_ETARIA\n",
       "100 anos ou mais                   7212\n",
       "16 anos                            7743\n",
       "17 anos                           11739\n",
       "18 anos                           15568\n",
       "19 anos                           18350\n",
       "20 anos                           20473\n",
       "21 a 24 anos                      36729\n",
       "25 a 29 anos                      49599\n",
       "30 a 34 anos                      59601\n",
       "35 a 39 anos                      69124\n",
       "40 a 44 anos                      75699\n",
       "45 a 49 anos                      80011\n",
       "50 a 54 anos                      85161\n",
       "55 a 59 anos                      87869\n",
       "60 a 64 anos                      85787\n",
       "65 a 69 anos                      80014\n",
       "70 a 74 anos                      70679\n",
       "75 a 79 anos                      58950\n",
       "80 a 84 anos                      48632\n",
       "85 a 89 anos                      36350\n",
       "90 a 94 anos                      26042\n",
       "95 a 99 anos                      16706\n",
       "Inválido                            537\n",
       "dtype: int64"
      ]
     },
     "execution_count": 14,
     "metadata": {},
     "output_type": "execute_result"
    }
   ],
   "source": [
    "faixa_etaria"
   ]
  },
  {
   "cell_type": "code",
   "execution_count": 15,
   "id": "6fb3cce4-e2af-4b0d-8f5b-56971a74134a",
   "metadata": {},
   "outputs": [
    {
     "data": {
      "text/plain": [
       "<AxesSubplot:xlabel='DS_FAIXA_ETARIA'>"
      ]
     },
     "execution_count": 15,
     "metadata": {},
     "output_type": "execute_result"
    },
    {
     "data": {
      "image/png": "[encoded data removed]",
      "text/plain": [
       "<Figure size 432x288 with 1 Axes>"
      ]
     },
     "metadata": {
      "needs_background": "light"
     },
     "output_type": "display_data"
    }
   ],
   "source": [
    "faixa_etaria.plot.bar(color = 'gray')"
   ]
  },
  {
   "cell_type": "code",
   "execution_count": 16,
   "id": "44bd2ff8-0da5-4368-8e09-9a83cacf2908",
   "metadata": {},
   "outputs": [],
   "source": [
    "grau_escolaridade = dataset.groupby(['DS_GRAU_ESCOLARIDADE']).size()"
   ]
  },
  {
   "cell_type": "code",
   "execution_count": 17,
   "id": "1501746c-c65b-41a7-a95c-146a8685192a",
   "metadata": {},
   "outputs": [
    {
     "data": {
      "text/plain": [
       "DS_GRAU_ESCOLARIDADE\n",
       "ANALFABETO                       128210\n",
       "ENSINO FUNDAMENTAL COMPLETO      127884\n",
       "ENSINO FUNDAMENTAL INCOMPLETO    178753\n",
       "ENSINO MÉDIO COMPLETO            148961\n",
       "ENSINO MÉDIO INCOMPLETO          118941\n",
       "LÊ E ESCREVE                     147168\n",
       "NÃO INFORMADO                      3833\n",
       "SUPERIOR COMPLETO                111447\n",
       "SUPERIOR INCOMPLETO               83378\n",
       "dtype: int64"
      ]
     },
     "execution_count": 17,
     "metadata": {},
     "output_type": "execute_result"
    }
   ],
   "source": [
    "grau_escolaridade"
   ]
  },
  {
   "cell_type": "code",
   "execution_count": 18,
   "id": "987c67f1-8f6d-4243-8f2e-51353d748dc3",
   "metadata": {},
   "outputs": [
    {
     "data": {
      "text/plain": [
       "<AxesSubplot:xlabel='DS_GRAU_ESCOLARIDADE'>"
      ]
     },
     "execution_count": 18,
     "metadata": {},
     "output_type": "execute_result"
    },
    {
     "data": {
      "image/png": "[encoded data removed]",
      "text/plain": [
       "<Figure size 432x288 with 1 Axes>"
      ]
     },
     "metadata": {
      "needs_background": "light"
     },
     "output_type": "display_data"
    }
   ],
   "source": [
    "grau_escolaridade.plot.bar(color = 'gray')"
   ]
  },
  {
   "cell_type": "code",
   "execution_count": 19,
   "id": "1efae3f3-cf9d-437b-bb8a-bec715bc902c",
   "metadata": {},
   "outputs": [],
   "source": [
    "nm_social = dataset.groupby(['QT_ELEITORES_INC_NM_SOCIAL']).size()"
   ]
  },
  {
   "cell_type": "code",
   "execution_count": 20,
   "id": "f7265f1f-c88d-4d64-afc7-17a95a1622d2",
   "metadata": {},
   "outputs": [
    {
     "data": {
      "text/plain": [
       "QT_ELEITORES_INC_NM_SOCIAL\n",
       "0    1046132\n",
       "1       2241\n",
       "2        162\n",
       "3         29\n",
       "4          5\n",
       "5          2\n",
       "6          4\n",
       "dtype: int64"
      ]
     },
     "execution_count": 20,
     "metadata": {},
     "output_type": "execute_result"
    }
   ],
   "source": [
    "nm_social"
   ]
  },
  {
   "cell_type": "code",
   "execution_count": 21,
   "id": "99514511-64e0-4d1c-985e-26751dc20493",
   "metadata": {},
   "outputs": [
    {
     "data": {
      "text/plain": [
       "<AxesSubplot:xlabel='QT_ELEITORES_INC_NM_SOCIAL'>"
      ]
     },
     "execution_count": 21,
     "metadata": {},
     "output_type": "execute_result"
    },
    {
     "data": {
      "image/png": "[encoded data removed]",
      "text/plain": [
       "<Figure size 432x288 with 1 Axes>"
      ]
     },
     "metadata": {
      "needs_background": "light"
     },
     "output_type": "display_data"
    }
   ],
   "source": [
    "nm_social.plot.bar(color = 'gray')"
   ]
  },
  {
   "cell_type": "code",
   "execution_count": 22,
   "id": "d99417fc-cd9a-43c3-b6fb-5fbf0fcaac41",
   "metadata": {},
   "outputs": [],
   "source": [
    "#08 Jornalista quer saber a percentagem de eleitores ausentes da última eleição "
   ]
  },
  {
   "cell_type": "code",
   "execution_count": 25,
   "id": "edeac81b",
   "metadata": {},
   "outputs": [],
   "source": [
    "csv_abstencao = r'data\\perfil_comparecimento_abstencao_2020.csv'"
   ]
  },
  {
   "cell_type": "code",
   "execution_count": 27,
   "id": "f32596cb",
   "metadata": {},
   "outputs": [],
   "source": [
    "dataset_abs = pd.read_csv(csv_abstencao, sep = ';', encoding = \"ISO-8859-1\")"
   ]
  },
  {
   "cell_type": "code",
   "execution_count": 28,
   "id": "5e25f20d",
   "metadata": {},
   "outputs": [
    {
     "name": "stdout",
     "output_type": "stream",
     "text": [
      "<class 'pandas.core.frame.DataFrame'>\n",
      "RangeIndex: 4770970 entries, 0 to 4770969\n",
      "Data columns (total 23 columns):\n",
      " #   Column                         Dtype \n",
      "---  ------                         ----- \n",
      " 0   DT_GERACAO                     object\n",
      " 1   HH_GERACAO                     object\n",
      " 2   ANO_ELEICAO                    int64 \n",
      " 3   NR_TURNO                       int64 \n",
      " 4   SG_UF                          object\n",
      " 5   CD_MUNICIPIO                   int64 \n",
      " 6   NM_MUNICIPIO                   object\n",
      " 7   NR_ZONA                        int64 \n",
      " 8   CD_GENERO                      int64 \n",
      " 9   DS_GENERO                      object\n",
      " 10  CD_ESTADO_CIVIL                int64 \n",
      " 11  DS_ESTADO_CIVIL                object\n",
      " 12  CD_FAIXA_ETARIA                int64 \n",
      " 13  DS_FAIXA_ETARIA                object\n",
      " 14  CD_GRAU_ESCOLARIDADE           int64 \n",
      " 15  DS_GRAU_ESCOLARIDADE           object\n",
      " 16  QT_APTOS                       int64 \n",
      " 17  QT_COMPARECIMENTO              int64 \n",
      " 18  QT_ABSTENCAO                   int64 \n",
      " 19  QT_COMPARECIMENTO_DEFICIENCIA  int64 \n",
      " 20  QT_ABSTENCAO_DEFICIENCIA       int64 \n",
      " 21  QT_COMPARECIMENTO_TTE          int64 \n",
      " 22  QT_ABSTENCAO_TTE               int64 \n",
      "dtypes: int64(15), object(8)\n",
      "memory usage: 837.2+ MB\n"
     ]
    }
   ],
   "source": [
    "dataset_abs.info()"
   ]
  },
  {
   "cell_type": "code",
   "execution_count": 29,
   "id": "9bceda90",
   "metadata": {},
   "outputs": [
    {
     "data": {
      "text/html": [
       "<div>\n",
       "<style scoped>\n",
       "    .dataframe tbody tr th:only-of-type {\n",
       "        vertical-align: middle;\n",
       "    }\n",
       "\n",
       "    .dataframe tbody tr th {\n",
       "        vertical-align: top;\n",
       "    }\n",
       "\n",
       "    .dataframe thead th {\n",
       "        text-align: right;\n",
       "    }\n",
       "</style>\n",
       "<table border=\"1\" class=\"dataframe\">\n",
       "  <thead>\n",
       "    <tr style=\"text-align: right;\">\n",
       "      <th></th>\n",
       "      <th>DT_GERACAO</th>\n",
       "      <th>HH_GERACAO</th>\n",
       "      <th>ANO_ELEICAO</th>\n",
       "      <th>NR_TURNO</th>\n",
       "      <th>SG_UF</th>\n",
       "      <th>CD_MUNICIPIO</th>\n",
       "      <th>NM_MUNICIPIO</th>\n",
       "      <th>NR_ZONA</th>\n",
       "      <th>CD_GENERO</th>\n",
       "      <th>DS_GENERO</th>\n",
       "      <th>CD_ESTADO_CIVIL</th>\n",
       "      <th>DS_ESTADO_CIVIL</th>\n",
       "      <th>CD_FAIXA_ETARIA</th>\n",
       "      <th>DS_FAIXA_ETARIA</th>\n",
       "      <th>CD_GRAU_ESCOLARIDADE</th>\n",
       "      <th>DS_GRAU_ESCOLARIDADE</th>\n",
       "      <th>QT_APTOS</th>\n",
       "      <th>QT_COMPARECIMENTO</th>\n",
       "      <th>QT_ABSTENCAO</th>\n",
       "      <th>QT_COMPARECIMENTO_DEFICIENCIA</th>\n",
       "      <th>QT_ABSTENCAO_DEFICIENCIA</th>\n",
       "      <th>QT_COMPARECIMENTO_TTE</th>\n",
       "      <th>QT_ABSTENCAO_TTE</th>\n",
       "    </tr>\n",
       "  </thead>\n",
       "  <tbody>\n",
       "    <tr>\n",
       "      <th>4636213</th>\n",
       "      <td>21/12/2020</td>\n",
       "      <td>14:48:46</td>\n",
       "      <td>2020</td>\n",
       "      <td>1</td>\n",
       "      <td>SP</td>\n",
       "      <td>67458</td>\n",
       "      <td>NARANDIBA</td>\n",
       "      <td>261</td>\n",
       "      <td>2</td>\n",
       "      <td>MASCULINO</td>\n",
       "      <td>3</td>\n",
       "      <td>CASADO</td>\n",
       "      <td>5559</td>\n",
       "      <td>55 a 59 anos</td>\n",
       "      <td>7</td>\n",
       "      <td>SUPERIOR INCOMPLETO</td>\n",
       "      <td>1</td>\n",
       "      <td>1</td>\n",
       "      <td>0</td>\n",
       "      <td>0</td>\n",
       "      <td>0</td>\n",
       "      <td>0</td>\n",
       "      <td>0</td>\n",
       "    </tr>\n",
       "    <tr>\n",
       "      <th>2669925</th>\n",
       "      <td>21/12/2020</td>\n",
       "      <td>14:48:46</td>\n",
       "      <td>2020</td>\n",
       "      <td>1</td>\n",
       "      <td>SP</td>\n",
       "      <td>61220</td>\n",
       "      <td>ALUMÍNIO</td>\n",
       "      <td>131</td>\n",
       "      <td>2</td>\n",
       "      <td>MASCULINO</td>\n",
       "      <td>9</td>\n",
       "      <td>DIVORCIADO</td>\n",
       "      <td>6064</td>\n",
       "      <td>60 a 64 anos</td>\n",
       "      <td>3</td>\n",
       "      <td>ENSINO FUNDAMENTAL INCOMPLETO</td>\n",
       "      <td>20</td>\n",
       "      <td>15</td>\n",
       "      <td>5</td>\n",
       "      <td>0</td>\n",
       "      <td>0</td>\n",
       "      <td>3</td>\n",
       "      <td>2</td>\n",
       "    </tr>\n",
       "    <tr>\n",
       "      <th>1128130</th>\n",
       "      <td>21/12/2020</td>\n",
       "      <td>14:48:46</td>\n",
       "      <td>2020</td>\n",
       "      <td>1</td>\n",
       "      <td>ES</td>\n",
       "      <td>56111</td>\n",
       "      <td>ARACRUZ</td>\n",
       "      <td>20</td>\n",
       "      <td>0</td>\n",
       "      <td>NÃO INFORMADO</td>\n",
       "      <td>0</td>\n",
       "      <td>NÃO INFORMADO</td>\n",
       "      <td>9599</td>\n",
       "      <td>95 a 99 anos</td>\n",
       "      <td>3</td>\n",
       "      <td>ENSINO FUNDAMENTAL INCOMPLETO</td>\n",
       "      <td>1</td>\n",
       "      <td>0</td>\n",
       "      <td>1</td>\n",
       "      <td>0</td>\n",
       "      <td>0</td>\n",
       "      <td>0</td>\n",
       "      <td>0</td>\n",
       "    </tr>\n",
       "    <tr>\n",
       "      <th>4038784</th>\n",
       "      <td>21/12/2020</td>\n",
       "      <td>14:48:46</td>\n",
       "      <td>2020</td>\n",
       "      <td>1</td>\n",
       "      <td>RN</td>\n",
       "      <td>17612</td>\n",
       "      <td>NATAL</td>\n",
       "      <td>1</td>\n",
       "      <td>2</td>\n",
       "      <td>MASCULINO</td>\n",
       "      <td>1</td>\n",
       "      <td>SOLTEIRO</td>\n",
       "      <td>-3</td>\n",
       "      <td>Inválido</td>\n",
       "      <td>5</td>\n",
       "      <td>ENSINO MÉDIO INCOMPLETO</td>\n",
       "      <td>108</td>\n",
       "      <td>81</td>\n",
       "      <td>27</td>\n",
       "      <td>0</td>\n",
       "      <td>0</td>\n",
       "      <td>8</td>\n",
       "      <td>2</td>\n",
       "    </tr>\n",
       "    <tr>\n",
       "      <th>4527535</th>\n",
       "      <td>21/12/2020</td>\n",
       "      <td>14:48:46</td>\n",
       "      <td>2020</td>\n",
       "      <td>2</td>\n",
       "      <td>CE</td>\n",
       "      <td>13730</td>\n",
       "      <td>CAUCAIA</td>\n",
       "      <td>123</td>\n",
       "      <td>2</td>\n",
       "      <td>MASCULINO</td>\n",
       "      <td>1</td>\n",
       "      <td>SOLTEIRO</td>\n",
       "      <td>2124</td>\n",
       "      <td>21 a 24 anos</td>\n",
       "      <td>3</td>\n",
       "      <td>ENSINO FUNDAMENTAL INCOMPLETO</td>\n",
       "      <td>454</td>\n",
       "      <td>305</td>\n",
       "      <td>149</td>\n",
       "      <td>3</td>\n",
       "      <td>1</td>\n",
       "      <td>55</td>\n",
       "      <td>29</td>\n",
       "    </tr>\n",
       "    <tr>\n",
       "      <th>3263186</th>\n",
       "      <td>21/12/2020</td>\n",
       "      <td>14:48:46</td>\n",
       "      <td>2020</td>\n",
       "      <td>1</td>\n",
       "      <td>RO</td>\n",
       "      <td>35</td>\n",
       "      <td>PORTO VELHO</td>\n",
       "      <td>20</td>\n",
       "      <td>4</td>\n",
       "      <td>FEMININO</td>\n",
       "      <td>3</td>\n",
       "      <td>CASADO</td>\n",
       "      <td>5054</td>\n",
       "      <td>50 a 54 anos</td>\n",
       "      <td>5</td>\n",
       "      <td>ENSINO MÉDIO INCOMPLETO</td>\n",
       "      <td>106</td>\n",
       "      <td>88</td>\n",
       "      <td>18</td>\n",
       "      <td>0</td>\n",
       "      <td>0</td>\n",
       "      <td>15</td>\n",
       "      <td>5</td>\n",
       "    </tr>\n",
       "    <tr>\n",
       "      <th>1016693</th>\n",
       "      <td>21/12/2020</td>\n",
       "      <td>14:48:46</td>\n",
       "      <td>2020</td>\n",
       "      <td>1</td>\n",
       "      <td>PB</td>\n",
       "      <td>22276</td>\n",
       "      <td>SUMÉ</td>\n",
       "      <td>43</td>\n",
       "      <td>2</td>\n",
       "      <td>MASCULINO</td>\n",
       "      <td>7</td>\n",
       "      <td>SEPARADO JUDICIALMENTE</td>\n",
       "      <td>5559</td>\n",
       "      <td>55 a 59 anos</td>\n",
       "      <td>3</td>\n",
       "      <td>ENSINO FUNDAMENTAL INCOMPLETO</td>\n",
       "      <td>7</td>\n",
       "      <td>7</td>\n",
       "      <td>0</td>\n",
       "      <td>0</td>\n",
       "      <td>0</td>\n",
       "      <td>0</td>\n",
       "      <td>0</td>\n",
       "    </tr>\n",
       "    <tr>\n",
       "      <th>4304766</th>\n",
       "      <td>21/12/2020</td>\n",
       "      <td>14:48:46</td>\n",
       "      <td>2020</td>\n",
       "      <td>1</td>\n",
       "      <td>RJ</td>\n",
       "      <td>60011</td>\n",
       "      <td>RIO DE JANEIRO</td>\n",
       "      <td>14</td>\n",
       "      <td>4</td>\n",
       "      <td>FEMININO</td>\n",
       "      <td>3</td>\n",
       "      <td>CASADO</td>\n",
       "      <td>3539</td>\n",
       "      <td>35 a 39 anos</td>\n",
       "      <td>7</td>\n",
       "      <td>SUPERIOR INCOMPLETO</td>\n",
       "      <td>94</td>\n",
       "      <td>73</td>\n",
       "      <td>21</td>\n",
       "      <td>0</td>\n",
       "      <td>0</td>\n",
       "      <td>0</td>\n",
       "      <td>0</td>\n",
       "    </tr>\n",
       "    <tr>\n",
       "      <th>3745758</th>\n",
       "      <td>21/12/2020</td>\n",
       "      <td>14:48:46</td>\n",
       "      <td>2020</td>\n",
       "      <td>1</td>\n",
       "      <td>TO</td>\n",
       "      <td>92002</td>\n",
       "      <td>BERNARDO SAYÃO</td>\n",
       "      <td>4</td>\n",
       "      <td>4</td>\n",
       "      <td>FEMININO</td>\n",
       "      <td>3</td>\n",
       "      <td>CASADO</td>\n",
       "      <td>2124</td>\n",
       "      <td>21 a 24 anos</td>\n",
       "      <td>6</td>\n",
       "      <td>ENSINO MÉDIO COMPLETO</td>\n",
       "      <td>14</td>\n",
       "      <td>12</td>\n",
       "      <td>2</td>\n",
       "      <td>0</td>\n",
       "      <td>0</td>\n",
       "      <td>3</td>\n",
       "      <td>2</td>\n",
       "    </tr>\n",
       "    <tr>\n",
       "      <th>4209150</th>\n",
       "      <td>21/12/2020</td>\n",
       "      <td>14:48:46</td>\n",
       "      <td>2020</td>\n",
       "      <td>1</td>\n",
       "      <td>GO</td>\n",
       "      <td>94072</td>\n",
       "      <td>ITAGUARU</td>\n",
       "      <td>57</td>\n",
       "      <td>2</td>\n",
       "      <td>MASCULINO</td>\n",
       "      <td>3</td>\n",
       "      <td>CASADO</td>\n",
       "      <td>4044</td>\n",
       "      <td>40 a 44 anos</td>\n",
       "      <td>4</td>\n",
       "      <td>ENSINO FUNDAMENTAL COMPLETO</td>\n",
       "      <td>9</td>\n",
       "      <td>8</td>\n",
       "      <td>1</td>\n",
       "      <td>0</td>\n",
       "      <td>0</td>\n",
       "      <td>1</td>\n",
       "      <td>0</td>\n",
       "    </tr>\n",
       "  </tbody>\n",
       "</table>\n",
       "</div>"
      ],
      "text/plain": [
       "         DT_GERACAO HH_GERACAO  ANO_ELEICAO  NR_TURNO SG_UF  CD_MUNICIPIO  \\\n",
       "4636213  21/12/2020   14:48:46         2020         1    SP         67458   \n",
       "2669925  21/12/2020   14:48:46         2020         1    SP         61220   \n",
       "1128130  21/12/2020   14:48:46         2020         1    ES         56111   \n",
       "4038784  21/12/2020   14:48:46         2020         1    RN         17612   \n",
       "4527535  21/12/2020   14:48:46         2020         2    CE         13730   \n",
       "3263186  21/12/2020   14:48:46         2020         1    RO            35   \n",
       "1016693  21/12/2020   14:48:46         2020         1    PB         22276   \n",
       "4304766  21/12/2020   14:48:46         2020         1    RJ         60011   \n",
       "3745758  21/12/2020   14:48:46         2020         1    TO         92002   \n",
       "4209150  21/12/2020   14:48:46         2020         1    GO         94072   \n",
       "\n",
       "           NM_MUNICIPIO  NR_ZONA  CD_GENERO      DS_GENERO  CD_ESTADO_CIVIL  \\\n",
       "4636213       NARANDIBA      261          2      MASCULINO                3   \n",
       "2669925        ALUMÍNIO      131          2      MASCULINO                9   \n",
       "1128130         ARACRUZ       20          0  NÃO INFORMADO                0   \n",
       "4038784           NATAL        1          2      MASCULINO                1   \n",
       "4527535         CAUCAIA      123          2      MASCULINO                1   \n",
       "3263186     PORTO VELHO       20          4       FEMININO                3   \n",
       "1016693            SUMÉ       43          2      MASCULINO                7   \n",
       "4304766  RIO DE JANEIRO       14          4       FEMININO                3   \n",
       "3745758  BERNARDO SAYÃO        4          4       FEMININO                3   \n",
       "4209150        ITAGUARU       57          2      MASCULINO                3   \n",
       "\n",
       "                DS_ESTADO_CIVIL  CD_FAIXA_ETARIA DS_FAIXA_ETARIA  \\\n",
       "4636213                  CASADO             5559    55 a 59 anos   \n",
       "2669925              DIVORCIADO             6064    60 a 64 anos   \n",
       "1128130           NÃO INFORMADO             9599    95 a 99 anos   \n",
       "4038784                SOLTEIRO               -3        Inválido   \n",
       "4527535                SOLTEIRO             2124    21 a 24 anos   \n",
       "3263186                  CASADO             5054    50 a 54 anos   \n",
       "1016693  SEPARADO JUDICIALMENTE             5559    55 a 59 anos   \n",
       "4304766                  CASADO             3539    35 a 39 anos   \n",
       "3745758                  CASADO             2124    21 a 24 anos   \n",
       "4209150                  CASADO             4044    40 a 44 anos   \n",
       "\n",
       "         CD_GRAU_ESCOLARIDADE           DS_GRAU_ESCOLARIDADE  QT_APTOS  \\\n",
       "4636213                     7            SUPERIOR INCOMPLETO         1   \n",
       "2669925                     3  ENSINO FUNDAMENTAL INCOMPLETO        20   \n",
       "1128130                     3  ENSINO FUNDAMENTAL INCOMPLETO         1   \n",
       "4038784                     5        ENSINO MÉDIO INCOMPLETO       108   \n",
       "4527535                     3  ENSINO FUNDAMENTAL INCOMPLETO       454   \n",
       "3263186                     5        ENSINO MÉDIO INCOMPLETO       106   \n",
       "1016693                     3  ENSINO FUNDAMENTAL INCOMPLETO         7   \n",
       "4304766                     7            SUPERIOR INCOMPLETO        94   \n",
       "3745758                     6          ENSINO MÉDIO COMPLETO        14   \n",
       "4209150                     4    ENSINO FUNDAMENTAL COMPLETO         9   \n",
       "\n",
       "         QT_COMPARECIMENTO  QT_ABSTENCAO  QT_COMPARECIMENTO_DEFICIENCIA  \\\n",
       "4636213                  1             0                              0   \n",
       "2669925                 15             5                              0   \n",
       "1128130                  0             1                              0   \n",
       "4038784                 81            27                              0   \n",
       "4527535                305           149                              3   \n",
       "3263186                 88            18                              0   \n",
       "1016693                  7             0                              0   \n",
       "4304766                 73            21                              0   \n",
       "3745758                 12             2                              0   \n",
       "4209150                  8             1                              0   \n",
       "\n",
       "         QT_ABSTENCAO_DEFICIENCIA  QT_COMPARECIMENTO_TTE  QT_ABSTENCAO_TTE  \n",
       "4636213                         0                      0                 0  \n",
       "2669925                         0                      3                 2  \n",
       "1128130                         0                      0                 0  \n",
       "4038784                         0                      8                 2  \n",
       "4527535                         1                     55                29  \n",
       "3263186                         0                     15                 5  \n",
       "1016693                         0                      0                 0  \n",
       "4304766                         0                      0                 0  \n",
       "3745758                         0                      3                 2  \n",
       "4209150                         0                      1                 0  "
      ]
     },
     "execution_count": 29,
     "metadata": {},
     "output_type": "execute_result"
    }
   ],
   "source": [
    "dataset_abs.sample(10)"
   ]
  },
  {
   "cell_type": "code",
   "execution_count": 66,
   "id": "5144fe1e",
   "metadata": {},
   "outputs": [
    {
     "data": {
      "text/plain": [
       "3394711"
      ]
     },
     "execution_count": 66,
     "metadata": {},
     "output_type": "execute_result"
    }
   ],
   "source": [
    "# AUZENTES\n",
    "dataset_abs['QT_ABSTENCAO_TTE'].sum()"
   ]
  },
  {
   "cell_type": "code",
   "execution_count": 68,
   "id": "0b57e2b0",
   "metadata": {},
   "outputs": [],
   "source": [
    "#09 Jornalista quer saber a evolução do número de eleitores (12/2010 - 12/2020)"
   ]
  },
  {
   "cell_type": "code",
   "execution_count": 139,
   "id": "a68724ec",
   "metadata": {
    "scrolled": true
   },
   "outputs": [],
   "source": [
    "csv_evolucao = r'data\\evolucao_do_eleitorado.csv'"
   ]
  },
  {
   "cell_type": "code",
   "execution_count": 140,
   "id": "fb015171",
   "metadata": {},
   "outputs": [],
   "source": [
    "dataset_evl = pd.read_csv(csv_evolucao, sep = ';', encoding = \"ISO-8859-1\")"
   ]
  },
  {
   "cell_type": "code",
   "execution_count": 141,
   "id": "846ad15a",
   "metadata": {},
   "outputs": [
    {
     "data": {
      "text/html": [
       "<div>\n",
       "<style scoped>\n",
       "    .dataframe tbody tr th:only-of-type {\n",
       "        vertical-align: middle;\n",
       "    }\n",
       "\n",
       "    .dataframe tbody tr th {\n",
       "        vertical-align: top;\n",
       "    }\n",
       "\n",
       "    .dataframe thead th {\n",
       "        text-align: right;\n",
       "    }\n",
       "</style>\n",
       "<table border=\"1\" class=\"dataframe\">\n",
       "  <thead>\n",
       "    <tr style=\"text-align: right;\">\n",
       "      <th></th>\n",
       "      <th>Abrangencia</th>\n",
       "      <th>Inicio</th>\n",
       "      <th>Fim</th>\n",
       "      <th>%</th>\n",
       "    </tr>\n",
       "  </thead>\n",
       "  <tbody>\n",
       "    <tr>\n",
       "      <th>2</th>\n",
       "      <td>NORDESTE</td>\n",
       "      <td>36660029</td>\n",
       "      <td>39238502</td>\n",
       "      <td>7,033</td>\n",
       "    </tr>\n",
       "    <tr>\n",
       "      <th>4</th>\n",
       "      <td>SUDESTE</td>\n",
       "      <td>58822090</td>\n",
       "      <td>62505545</td>\n",
       "      <td>6,262</td>\n",
       "    </tr>\n",
       "    <tr>\n",
       "      <th>1</th>\n",
       "      <td>EXTERIOR</td>\n",
       "      <td>199795</td>\n",
       "      <td>509956</td>\n",
       "      <td>155,24</td>\n",
       "    </tr>\n",
       "    <tr>\n",
       "      <th>0</th>\n",
       "      <td>CENTRO-OESTE</td>\n",
       "      <td>9672931</td>\n",
       "      <td>10713941</td>\n",
       "      <td>10,762</td>\n",
       "    </tr>\n",
       "    <tr>\n",
       "      <th>6</th>\n",
       "      <td>TOTAL</td>\n",
       "      <td>135539919</td>\n",
       "      <td>145958233</td>\n",
       "      <td>7,687</td>\n",
       "    </tr>\n",
       "    <tr>\n",
       "      <th>5</th>\n",
       "      <td>SUL</td>\n",
       "      <td>20201686</td>\n",
       "      <td>21502285</td>\n",
       "      <td>6,438</td>\n",
       "    </tr>\n",
       "    <tr>\n",
       "      <th>3</th>\n",
       "      <td>NORTE</td>\n",
       "      <td>9983388</td>\n",
       "      <td>11488004</td>\n",
       "      <td>15,071</td>\n",
       "    </tr>\n",
       "  </tbody>\n",
       "</table>\n",
       "</div>"
      ],
      "text/plain": [
       "    Abrangencia     Inicio        Fim       %\n",
       "2      NORDESTE   36660029   39238502   7,033\n",
       "4       SUDESTE   58822090   62505545   6,262\n",
       "1      EXTERIOR     199795     509956  155,24\n",
       "0  CENTRO-OESTE    9672931   10713941  10,762\n",
       "6         TOTAL  135539919  145958233   7,687\n",
       "5           SUL   20201686   21502285   6,438\n",
       "3         NORTE    9983388   11488004  15,071"
      ]
     },
     "execution_count": 141,
     "metadata": {},
     "output_type": "execute_result"
    }
   ],
   "source": [
    "dataset_evl.sample(7)"
   ]
  },
  {
   "cell_type": "code",
   "execution_count": 142,
   "id": "334b197d",
   "metadata": {},
   "outputs": [],
   "source": [
    "evolucao = dataset_evl.groupby(['Abrangencia']).sum()[['Inicio']]"
   ]
  },
  {
   "cell_type": "code",
   "execution_count": 147,
   "id": "36c6dade",
   "metadata": {},
   "outputs": [
    {
     "data": {
      "text/html": [
       "<div>\n",
       "<style scoped>\n",
       "    .dataframe tbody tr th:only-of-type {\n",
       "        vertical-align: middle;\n",
       "    }\n",
       "\n",
       "    .dataframe tbody tr th {\n",
       "        vertical-align: top;\n",
       "    }\n",
       "\n",
       "    .dataframe thead th {\n",
       "        text-align: right;\n",
       "    }\n",
       "</style>\n",
       "<table border=\"1\" class=\"dataframe\">\n",
       "  <thead>\n",
       "    <tr style=\"text-align: right;\">\n",
       "      <th></th>\n",
       "      <th>Inicio</th>\n",
       "    </tr>\n",
       "    <tr>\n",
       "      <th>Abrangencia</th>\n",
       "      <th></th>\n",
       "    </tr>\n",
       "  </thead>\n",
       "  <tbody>\n",
       "    <tr>\n",
       "      <th>CENTRO-OESTE</th>\n",
       "      <td>9672931</td>\n",
       "    </tr>\n",
       "    <tr>\n",
       "      <th>EXTERIOR</th>\n",
       "      <td>199795</td>\n",
       "    </tr>\n",
       "    <tr>\n",
       "      <th>NORDESTE</th>\n",
       "      <td>36660029</td>\n",
       "    </tr>\n",
       "    <tr>\n",
       "      <th>NORTE</th>\n",
       "      <td>9983388</td>\n",
       "    </tr>\n",
       "    <tr>\n",
       "      <th>SUDESTE</th>\n",
       "      <td>58822090</td>\n",
       "    </tr>\n",
       "    <tr>\n",
       "      <th>SUL</th>\n",
       "      <td>20201686</td>\n",
       "    </tr>\n",
       "    <tr>\n",
       "      <th>TOTAL</th>\n",
       "      <td>135539919</td>\n",
       "    </tr>\n",
       "  </tbody>\n",
       "</table>\n",
       "</div>"
      ],
      "text/plain": [
       "                 Inicio\n",
       "Abrangencia            \n",
       "CENTRO-OESTE    9672931\n",
       "EXTERIOR         199795\n",
       "NORDESTE       36660029\n",
       "NORTE           9983388\n",
       "SUDESTE        58822090\n",
       "SUL            20201686\n",
       "TOTAL         135539919"
      ]
     },
     "execution_count": 147,
     "metadata": {},
     "output_type": "execute_result"
    }
   ],
   "source": [
    "evolucao"
   ]
  },
  {
   "cell_type": "code",
   "execution_count": 148,
   "id": "82844cc5",
   "metadata": {},
   "outputs": [
    {
     "data": {
      "text/plain": [
       "<AxesSubplot:xlabel='Abrangencia', ylabel='Inicio'>"
      ]
     },
     "execution_count": 148,
     "metadata": {},
     "output_type": "execute_result"
    },
    {
     "data": {
      "image/png": "[encoded data removed]",
      "text/plain": [
       "<Figure size 432x288 with 1 Axes>"
      ]
     },
     "metadata": {
      "needs_background": "light"
     },
     "output_type": "display_data"
    }
   ],
   "source": [
    "srn.barplot(x=evolucao.index, y=evolucao.Inicio)"
   ]
  },
  {
   "cell_type": "code",
   "execution_count": null,
   "id": "7835745b",
   "metadata": {},
   "outputs": [],
   "source": []
  },
  {
   "cell_type": "code",
   "execution_count": null,
   "id": "557e61aa",
   "metadata": {},
   "outputs": [],
   "source": [
    "\n"
   ]
  }
 ],
 "metadata": {
  "kernelspec": {
   "display_name": "Python 3 (ipykernel)",
   "language": "python",
   "name": "python3"
  },
  "language_info": {
   "codemirror_mode": {
    "name": "ipython",
    "version": 3
   },
   "file_extension": ".py",
   "mimetype": "text/x-python",
   "name": "python",
   "nbconvert_exporter": "python",
   "pygments_lexer": "ipython3",
   "version": "3.9.5"
  }
 },
 "nbformat": 4,
 "nbformat_minor": 5
}